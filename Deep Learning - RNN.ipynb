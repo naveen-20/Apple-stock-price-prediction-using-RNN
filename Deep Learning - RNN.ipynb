{
 "cells": [
  {
   "cell_type": "markdown",
   "metadata": {},
   "source": [
    "# Stock price prediction using Keras & Recurrent Neural      Network\n"
   ]
  },
  {
   "cell_type": "code",
   "execution_count": 1,
   "metadata": {},
   "outputs": [],
   "source": [
    "#Importing all important libraries.\n",
    "import pandas as pd\n",
    "from pandas import Series,DataFrame\n",
    "import numpy as np"
   ]
  },
  {
   "cell_type": "code",
   "execution_count": 2,
   "metadata": {},
   "outputs": [],
   "source": [
    "#for visualisation\n",
    "import matplotlib.pyplot as plt\n",
    "import seaborn as sns\n",
    "sns.set_style('whitegrid')\n",
    "%matplotlib inline"
   ]
  },
  {
   "cell_type": "code",
   "execution_count": 3,
   "metadata": {},
   "outputs": [],
   "source": [
    "#imports for reading stock data from yahoo\n",
    "import pandas_datareader as pdr"
   ]
  },
  {
   "cell_type": "code",
   "execution_count": 4,
   "metadata": {},
   "outputs": [],
   "source": [
    "#for timestamp \n",
    "from datetime import datetime"
   ]
  },
  {
   "cell_type": "markdown",
   "metadata": {},
   "source": [
    "For training our model we will extract stock data of Apple company from 2014 to 2018."
   ]
  },
  {
   "cell_type": "code",
   "execution_count": 5,
   "metadata": {},
   "outputs": [],
   "source": [
    "start_date = datetime(2014, 1, 1)\n",
    "end_date = datetime(2018, 12, 31)"
   ]
  },
  {
   "cell_type": "code",
   "execution_count": 6,
   "metadata": {},
   "outputs": [],
   "source": [
    "train_data = pdr.data.get_data_yahoo('AAPL',start_date,end_date)"
   ]
  },
  {
   "cell_type": "code",
   "execution_count": 7,
   "metadata": {},
   "outputs": [
    {
     "data": {
      "text/html": [
       "<div>\n",
       "<style scoped>\n",
       "    .dataframe tbody tr th:only-of-type {\n",
       "        vertical-align: middle;\n",
       "    }\n",
       "\n",
       "    .dataframe tbody tr th {\n",
       "        vertical-align: top;\n",
       "    }\n",
       "\n",
       "    .dataframe thead th {\n",
       "        text-align: right;\n",
       "    }\n",
       "</style>\n",
       "<table border=\"1\" class=\"dataframe\">\n",
       "  <thead>\n",
       "    <tr style=\"text-align: right;\">\n",
       "      <th></th>\n",
       "      <th>High</th>\n",
       "      <th>Low</th>\n",
       "      <th>Open</th>\n",
       "      <th>Close</th>\n",
       "      <th>Volume</th>\n",
       "      <th>Adj Close</th>\n",
       "    </tr>\n",
       "    <tr>\n",
       "      <th>Date</th>\n",
       "      <th></th>\n",
       "      <th></th>\n",
       "      <th></th>\n",
       "      <th></th>\n",
       "      <th></th>\n",
       "      <th></th>\n",
       "    </tr>\n",
       "  </thead>\n",
       "  <tbody>\n",
       "    <tr>\n",
       "      <td>2013-12-31</td>\n",
       "      <td>80.182854</td>\n",
       "      <td>79.142860</td>\n",
       "      <td>79.167145</td>\n",
       "      <td>80.145714</td>\n",
       "      <td>55771100.0</td>\n",
       "      <td>72.121513</td>\n",
       "    </tr>\n",
       "    <tr>\n",
       "      <td>2014-01-02</td>\n",
       "      <td>79.575714</td>\n",
       "      <td>78.860001</td>\n",
       "      <td>79.382858</td>\n",
       "      <td>79.018570</td>\n",
       "      <td>58671200.0</td>\n",
       "      <td>71.107201</td>\n",
       "    </tr>\n",
       "    <tr>\n",
       "      <td>2014-01-03</td>\n",
       "      <td>79.099998</td>\n",
       "      <td>77.204285</td>\n",
       "      <td>78.980003</td>\n",
       "      <td>77.282860</td>\n",
       "      <td>98116900.0</td>\n",
       "      <td>69.545288</td>\n",
       "    </tr>\n",
       "    <tr>\n",
       "      <td>2014-01-06</td>\n",
       "      <td>78.114288</td>\n",
       "      <td>76.228569</td>\n",
       "      <td>76.778572</td>\n",
       "      <td>77.704285</td>\n",
       "      <td>103152700.0</td>\n",
       "      <td>69.924515</td>\n",
       "    </tr>\n",
       "    <tr>\n",
       "      <td>2014-01-07</td>\n",
       "      <td>77.994286</td>\n",
       "      <td>76.845711</td>\n",
       "      <td>77.760002</td>\n",
       "      <td>77.148575</td>\n",
       "      <td>79302300.0</td>\n",
       "      <td>69.424438</td>\n",
       "    </tr>\n",
       "  </tbody>\n",
       "</table>\n",
       "</div>"
      ],
      "text/plain": [
       "                 High        Low       Open      Close       Volume  Adj Close\n",
       "Date                                                                          \n",
       "2013-12-31  80.182854  79.142860  79.167145  80.145714   55771100.0  72.121513\n",
       "2014-01-02  79.575714  78.860001  79.382858  79.018570   58671200.0  71.107201\n",
       "2014-01-03  79.099998  77.204285  78.980003  77.282860   98116900.0  69.545288\n",
       "2014-01-06  78.114288  76.228569  76.778572  77.704285  103152700.0  69.924515\n",
       "2014-01-07  77.994286  76.845711  77.760002  77.148575   79302300.0  69.424438"
      ]
     },
     "execution_count": 7,
     "metadata": {},
     "output_type": "execute_result"
    }
   ],
   "source": [
    "train_data.head()"
   ]
  },
  {
   "cell_type": "code",
   "execution_count": 8,
   "metadata": {},
   "outputs": [],
   "source": [
    "train_data.drop(train_data.index[0],inplace=True)"
   ]
  },
  {
   "cell_type": "code",
   "execution_count": 9,
   "metadata": {},
   "outputs": [
    {
     "data": {
      "text/html": [
       "<div>\n",
       "<style scoped>\n",
       "    .dataframe tbody tr th:only-of-type {\n",
       "        vertical-align: middle;\n",
       "    }\n",
       "\n",
       "    .dataframe tbody tr th {\n",
       "        vertical-align: top;\n",
       "    }\n",
       "\n",
       "    .dataframe thead th {\n",
       "        text-align: right;\n",
       "    }\n",
       "</style>\n",
       "<table border=\"1\" class=\"dataframe\">\n",
       "  <thead>\n",
       "    <tr style=\"text-align: right;\">\n",
       "      <th></th>\n",
       "      <th>High</th>\n",
       "      <th>Low</th>\n",
       "      <th>Open</th>\n",
       "      <th>Close</th>\n",
       "      <th>Volume</th>\n",
       "      <th>Adj Close</th>\n",
       "    </tr>\n",
       "    <tr>\n",
       "      <th>Date</th>\n",
       "      <th></th>\n",
       "      <th></th>\n",
       "      <th></th>\n",
       "      <th></th>\n",
       "      <th></th>\n",
       "      <th></th>\n",
       "    </tr>\n",
       "  </thead>\n",
       "  <tbody>\n",
       "    <tr>\n",
       "      <td>2014-01-02</td>\n",
       "      <td>79.575714</td>\n",
       "      <td>78.860001</td>\n",
       "      <td>79.382858</td>\n",
       "      <td>79.018570</td>\n",
       "      <td>58671200.0</td>\n",
       "      <td>71.107201</td>\n",
       "    </tr>\n",
       "    <tr>\n",
       "      <td>2014-01-03</td>\n",
       "      <td>79.099998</td>\n",
       "      <td>77.204285</td>\n",
       "      <td>78.980003</td>\n",
       "      <td>77.282860</td>\n",
       "      <td>98116900.0</td>\n",
       "      <td>69.545288</td>\n",
       "    </tr>\n",
       "    <tr>\n",
       "      <td>2014-01-06</td>\n",
       "      <td>78.114288</td>\n",
       "      <td>76.228569</td>\n",
       "      <td>76.778572</td>\n",
       "      <td>77.704285</td>\n",
       "      <td>103152700.0</td>\n",
       "      <td>69.924515</td>\n",
       "    </tr>\n",
       "    <tr>\n",
       "      <td>2014-01-07</td>\n",
       "      <td>77.994286</td>\n",
       "      <td>76.845711</td>\n",
       "      <td>77.760002</td>\n",
       "      <td>77.148575</td>\n",
       "      <td>79302300.0</td>\n",
       "      <td>69.424438</td>\n",
       "    </tr>\n",
       "    <tr>\n",
       "      <td>2014-01-08</td>\n",
       "      <td>77.937141</td>\n",
       "      <td>76.955711</td>\n",
       "      <td>76.972855</td>\n",
       "      <td>77.637146</td>\n",
       "      <td>64632400.0</td>\n",
       "      <td>69.864105</td>\n",
       "    </tr>\n",
       "  </tbody>\n",
       "</table>\n",
       "</div>"
      ],
      "text/plain": [
       "                 High        Low       Open      Close       Volume  Adj Close\n",
       "Date                                                                          \n",
       "2014-01-02  79.575714  78.860001  79.382858  79.018570   58671200.0  71.107201\n",
       "2014-01-03  79.099998  77.204285  78.980003  77.282860   98116900.0  69.545288\n",
       "2014-01-06  78.114288  76.228569  76.778572  77.704285  103152700.0  69.924515\n",
       "2014-01-07  77.994286  76.845711  77.760002  77.148575   79302300.0  69.424438\n",
       "2014-01-08  77.937141  76.955711  76.972855  77.637146   64632400.0  69.864105"
      ]
     },
     "execution_count": 9,
     "metadata": {},
     "output_type": "execute_result"
    }
   ],
   "source": [
    "train_data.head()"
   ]
  },
  {
   "cell_type": "code",
   "execution_count": 10,
   "metadata": {
    "scrolled": true
   },
   "outputs": [
    {
     "data": {
      "text/html": [
       "<div>\n",
       "<style scoped>\n",
       "    .dataframe tbody tr th:only-of-type {\n",
       "        vertical-align: middle;\n",
       "    }\n",
       "\n",
       "    .dataframe tbody tr th {\n",
       "        vertical-align: top;\n",
       "    }\n",
       "\n",
       "    .dataframe thead th {\n",
       "        text-align: right;\n",
       "    }\n",
       "</style>\n",
       "<table border=\"1\" class=\"dataframe\">\n",
       "  <thead>\n",
       "    <tr style=\"text-align: right;\">\n",
       "      <th></th>\n",
       "      <th>High</th>\n",
       "      <th>Low</th>\n",
       "      <th>Open</th>\n",
       "      <th>Close</th>\n",
       "      <th>Volume</th>\n",
       "      <th>Adj Close</th>\n",
       "    </tr>\n",
       "    <tr>\n",
       "      <th>Date</th>\n",
       "      <th></th>\n",
       "      <th></th>\n",
       "      <th></th>\n",
       "      <th></th>\n",
       "      <th></th>\n",
       "      <th></th>\n",
       "    </tr>\n",
       "  </thead>\n",
       "  <tbody>\n",
       "    <tr>\n",
       "      <td>2018-12-24</td>\n",
       "      <td>151.550003</td>\n",
       "      <td>146.589996</td>\n",
       "      <td>148.149994</td>\n",
       "      <td>146.830002</td>\n",
       "      <td>37169200.0</td>\n",
       "      <td>144.656540</td>\n",
       "    </tr>\n",
       "    <tr>\n",
       "      <td>2018-12-26</td>\n",
       "      <td>157.229996</td>\n",
       "      <td>146.720001</td>\n",
       "      <td>148.300003</td>\n",
       "      <td>157.169998</td>\n",
       "      <td>58582500.0</td>\n",
       "      <td>154.843475</td>\n",
       "    </tr>\n",
       "    <tr>\n",
       "      <td>2018-12-27</td>\n",
       "      <td>156.770004</td>\n",
       "      <td>150.070007</td>\n",
       "      <td>155.839996</td>\n",
       "      <td>156.149994</td>\n",
       "      <td>53117100.0</td>\n",
       "      <td>153.838562</td>\n",
       "    </tr>\n",
       "    <tr>\n",
       "      <td>2018-12-28</td>\n",
       "      <td>158.520004</td>\n",
       "      <td>154.550003</td>\n",
       "      <td>157.500000</td>\n",
       "      <td>156.229996</td>\n",
       "      <td>42291400.0</td>\n",
       "      <td>153.917389</td>\n",
       "    </tr>\n",
       "    <tr>\n",
       "      <td>2018-12-31</td>\n",
       "      <td>159.360001</td>\n",
       "      <td>156.479996</td>\n",
       "      <td>158.529999</td>\n",
       "      <td>157.740005</td>\n",
       "      <td>35003500.0</td>\n",
       "      <td>155.405045</td>\n",
       "    </tr>\n",
       "  </tbody>\n",
       "</table>\n",
       "</div>"
      ],
      "text/plain": [
       "                  High         Low        Open       Close      Volume  \\\n",
       "Date                                                                     \n",
       "2018-12-24  151.550003  146.589996  148.149994  146.830002  37169200.0   \n",
       "2018-12-26  157.229996  146.720001  148.300003  157.169998  58582500.0   \n",
       "2018-12-27  156.770004  150.070007  155.839996  156.149994  53117100.0   \n",
       "2018-12-28  158.520004  154.550003  157.500000  156.229996  42291400.0   \n",
       "2018-12-31  159.360001  156.479996  158.529999  157.740005  35003500.0   \n",
       "\n",
       "             Adj Close  \n",
       "Date                    \n",
       "2018-12-24  144.656540  \n",
       "2018-12-26  154.843475  \n",
       "2018-12-27  153.838562  \n",
       "2018-12-28  153.917389  \n",
       "2018-12-31  155.405045  "
      ]
     },
     "execution_count": 10,
     "metadata": {},
     "output_type": "execute_result"
    }
   ],
   "source": [
    "train_data.tail()"
   ]
  },
  {
   "cell_type": "markdown",
   "metadata": {},
   "source": [
    "For testing the model we will extract stock data of Apple for the first month of 2019."
   ]
  },
  {
   "cell_type": "code",
   "execution_count": 11,
   "metadata": {},
   "outputs": [],
   "source": [
    "start = datetime(2019,1,1)\n",
    "end = datetime(2019,1,31)"
   ]
  },
  {
   "cell_type": "code",
   "execution_count": 12,
   "metadata": {},
   "outputs": [],
   "source": [
    "test_data = pdr.data.get_data_yahoo('AAPL',start,end)"
   ]
  },
  {
   "cell_type": "code",
   "execution_count": 13,
   "metadata": {},
   "outputs": [
    {
     "data": {
      "text/html": [
       "<div>\n",
       "<style scoped>\n",
       "    .dataframe tbody tr th:only-of-type {\n",
       "        vertical-align: middle;\n",
       "    }\n",
       "\n",
       "    .dataframe tbody tr th {\n",
       "        vertical-align: top;\n",
       "    }\n",
       "\n",
       "    .dataframe thead th {\n",
       "        text-align: right;\n",
       "    }\n",
       "</style>\n",
       "<table border=\"1\" class=\"dataframe\">\n",
       "  <thead>\n",
       "    <tr style=\"text-align: right;\">\n",
       "      <th></th>\n",
       "      <th>High</th>\n",
       "      <th>Low</th>\n",
       "      <th>Open</th>\n",
       "      <th>Close</th>\n",
       "      <th>Volume</th>\n",
       "      <th>Adj Close</th>\n",
       "    </tr>\n",
       "    <tr>\n",
       "      <th>Date</th>\n",
       "      <th></th>\n",
       "      <th></th>\n",
       "      <th></th>\n",
       "      <th></th>\n",
       "      <th></th>\n",
       "      <th></th>\n",
       "    </tr>\n",
       "  </thead>\n",
       "  <tbody>\n",
       "    <tr>\n",
       "      <td>2018-12-31</td>\n",
       "      <td>159.360001</td>\n",
       "      <td>156.479996</td>\n",
       "      <td>158.529999</td>\n",
       "      <td>157.740005</td>\n",
       "      <td>35003500</td>\n",
       "      <td>155.405045</td>\n",
       "    </tr>\n",
       "    <tr>\n",
       "      <td>2019-01-02</td>\n",
       "      <td>158.850006</td>\n",
       "      <td>154.229996</td>\n",
       "      <td>154.889999</td>\n",
       "      <td>157.919998</td>\n",
       "      <td>37039700</td>\n",
       "      <td>155.582367</td>\n",
       "    </tr>\n",
       "    <tr>\n",
       "      <td>2019-01-03</td>\n",
       "      <td>145.720001</td>\n",
       "      <td>142.000000</td>\n",
       "      <td>143.979996</td>\n",
       "      <td>142.190002</td>\n",
       "      <td>91312200</td>\n",
       "      <td>140.085220</td>\n",
       "    </tr>\n",
       "    <tr>\n",
       "      <td>2019-01-04</td>\n",
       "      <td>148.550003</td>\n",
       "      <td>143.800003</td>\n",
       "      <td>144.529999</td>\n",
       "      <td>148.259995</td>\n",
       "      <td>58607100</td>\n",
       "      <td>146.065353</td>\n",
       "    </tr>\n",
       "    <tr>\n",
       "      <td>2019-01-07</td>\n",
       "      <td>148.830002</td>\n",
       "      <td>145.899994</td>\n",
       "      <td>148.699997</td>\n",
       "      <td>147.929993</td>\n",
       "      <td>54777800</td>\n",
       "      <td>145.740265</td>\n",
       "    </tr>\n",
       "  </tbody>\n",
       "</table>\n",
       "</div>"
      ],
      "text/plain": [
       "                  High         Low        Open       Close    Volume  \\\n",
       "Date                                                                   \n",
       "2018-12-31  159.360001  156.479996  158.529999  157.740005  35003500   \n",
       "2019-01-02  158.850006  154.229996  154.889999  157.919998  37039700   \n",
       "2019-01-03  145.720001  142.000000  143.979996  142.190002  91312200   \n",
       "2019-01-04  148.550003  143.800003  144.529999  148.259995  58607100   \n",
       "2019-01-07  148.830002  145.899994  148.699997  147.929993  54777800   \n",
       "\n",
       "             Adj Close  \n",
       "Date                    \n",
       "2018-12-31  155.405045  \n",
       "2019-01-02  155.582367  \n",
       "2019-01-03  140.085220  \n",
       "2019-01-04  146.065353  \n",
       "2019-01-07  145.740265  "
      ]
     },
     "execution_count": 13,
     "metadata": {},
     "output_type": "execute_result"
    }
   ],
   "source": [
    "test_data.head()"
   ]
  },
  {
   "cell_type": "code",
   "execution_count": 14,
   "metadata": {},
   "outputs": [],
   "source": [
    "test_data.drop(test_data.index[0],inplace=True)"
   ]
  },
  {
   "cell_type": "code",
   "execution_count": 15,
   "metadata": {},
   "outputs": [
    {
     "data": {
      "text/html": [
       "<div>\n",
       "<style scoped>\n",
       "    .dataframe tbody tr th:only-of-type {\n",
       "        vertical-align: middle;\n",
       "    }\n",
       "\n",
       "    .dataframe tbody tr th {\n",
       "        vertical-align: top;\n",
       "    }\n",
       "\n",
       "    .dataframe thead th {\n",
       "        text-align: right;\n",
       "    }\n",
       "</style>\n",
       "<table border=\"1\" class=\"dataframe\">\n",
       "  <thead>\n",
       "    <tr style=\"text-align: right;\">\n",
       "      <th></th>\n",
       "      <th>High</th>\n",
       "      <th>Low</th>\n",
       "      <th>Open</th>\n",
       "      <th>Close</th>\n",
       "      <th>Volume</th>\n",
       "      <th>Adj Close</th>\n",
       "    </tr>\n",
       "    <tr>\n",
       "      <th>Date</th>\n",
       "      <th></th>\n",
       "      <th></th>\n",
       "      <th></th>\n",
       "      <th></th>\n",
       "      <th></th>\n",
       "      <th></th>\n",
       "    </tr>\n",
       "  </thead>\n",
       "  <tbody>\n",
       "    <tr>\n",
       "      <td>2019-01-02</td>\n",
       "      <td>158.850006</td>\n",
       "      <td>154.229996</td>\n",
       "      <td>154.889999</td>\n",
       "      <td>157.919998</td>\n",
       "      <td>37039700</td>\n",
       "      <td>155.582367</td>\n",
       "    </tr>\n",
       "    <tr>\n",
       "      <td>2019-01-03</td>\n",
       "      <td>145.720001</td>\n",
       "      <td>142.000000</td>\n",
       "      <td>143.979996</td>\n",
       "      <td>142.190002</td>\n",
       "      <td>91312200</td>\n",
       "      <td>140.085220</td>\n",
       "    </tr>\n",
       "    <tr>\n",
       "      <td>2019-01-04</td>\n",
       "      <td>148.550003</td>\n",
       "      <td>143.800003</td>\n",
       "      <td>144.529999</td>\n",
       "      <td>148.259995</td>\n",
       "      <td>58607100</td>\n",
       "      <td>146.065353</td>\n",
       "    </tr>\n",
       "    <tr>\n",
       "      <td>2019-01-07</td>\n",
       "      <td>148.830002</td>\n",
       "      <td>145.899994</td>\n",
       "      <td>148.699997</td>\n",
       "      <td>147.929993</td>\n",
       "      <td>54777800</td>\n",
       "      <td>145.740265</td>\n",
       "    </tr>\n",
       "    <tr>\n",
       "      <td>2019-01-08</td>\n",
       "      <td>151.820007</td>\n",
       "      <td>148.520004</td>\n",
       "      <td>149.559998</td>\n",
       "      <td>150.750000</td>\n",
       "      <td>41025300</td>\n",
       "      <td>148.518509</td>\n",
       "    </tr>\n",
       "  </tbody>\n",
       "</table>\n",
       "</div>"
      ],
      "text/plain": [
       "                  High         Low        Open       Close    Volume  \\\n",
       "Date                                                                   \n",
       "2019-01-02  158.850006  154.229996  154.889999  157.919998  37039700   \n",
       "2019-01-03  145.720001  142.000000  143.979996  142.190002  91312200   \n",
       "2019-01-04  148.550003  143.800003  144.529999  148.259995  58607100   \n",
       "2019-01-07  148.830002  145.899994  148.699997  147.929993  54777800   \n",
       "2019-01-08  151.820007  148.520004  149.559998  150.750000  41025300   \n",
       "\n",
       "             Adj Close  \n",
       "Date                    \n",
       "2019-01-02  155.582367  \n",
       "2019-01-03  140.085220  \n",
       "2019-01-04  146.065353  \n",
       "2019-01-07  145.740265  \n",
       "2019-01-08  148.518509  "
      ]
     },
     "execution_count": 15,
     "metadata": {},
     "output_type": "execute_result"
    }
   ],
   "source": [
    "test_data.head()"
   ]
  },
  {
   "cell_type": "code",
   "execution_count": 16,
   "metadata": {},
   "outputs": [
    {
     "data": {
      "text/html": [
       "<div>\n",
       "<style scoped>\n",
       "    .dataframe tbody tr th:only-of-type {\n",
       "        vertical-align: middle;\n",
       "    }\n",
       "\n",
       "    .dataframe tbody tr th {\n",
       "        vertical-align: top;\n",
       "    }\n",
       "\n",
       "    .dataframe thead th {\n",
       "        text-align: right;\n",
       "    }\n",
       "</style>\n",
       "<table border=\"1\" class=\"dataframe\">\n",
       "  <thead>\n",
       "    <tr style=\"text-align: right;\">\n",
       "      <th></th>\n",
       "      <th>High</th>\n",
       "      <th>Low</th>\n",
       "      <th>Open</th>\n",
       "      <th>Close</th>\n",
       "      <th>Volume</th>\n",
       "      <th>Adj Close</th>\n",
       "    </tr>\n",
       "    <tr>\n",
       "      <th>Date</th>\n",
       "      <th></th>\n",
       "      <th></th>\n",
       "      <th></th>\n",
       "      <th></th>\n",
       "      <th></th>\n",
       "      <th></th>\n",
       "    </tr>\n",
       "  </thead>\n",
       "  <tbody>\n",
       "    <tr>\n",
       "      <td>2019-01-25</td>\n",
       "      <td>158.130005</td>\n",
       "      <td>154.320007</td>\n",
       "      <td>155.479996</td>\n",
       "      <td>157.759995</td>\n",
       "      <td>33535500</td>\n",
       "      <td>155.424744</td>\n",
       "    </tr>\n",
       "    <tr>\n",
       "      <td>2019-01-28</td>\n",
       "      <td>156.330002</td>\n",
       "      <td>153.660004</td>\n",
       "      <td>155.789993</td>\n",
       "      <td>156.300003</td>\n",
       "      <td>26192100</td>\n",
       "      <td>153.986359</td>\n",
       "    </tr>\n",
       "    <tr>\n",
       "      <td>2019-01-29</td>\n",
       "      <td>158.130005</td>\n",
       "      <td>154.110001</td>\n",
       "      <td>156.250000</td>\n",
       "      <td>154.679993</td>\n",
       "      <td>41587200</td>\n",
       "      <td>152.390320</td>\n",
       "    </tr>\n",
       "    <tr>\n",
       "      <td>2019-01-30</td>\n",
       "      <td>166.149994</td>\n",
       "      <td>160.229996</td>\n",
       "      <td>163.250000</td>\n",
       "      <td>165.250000</td>\n",
       "      <td>61109800</td>\n",
       "      <td>162.803864</td>\n",
       "    </tr>\n",
       "    <tr>\n",
       "      <td>2019-01-31</td>\n",
       "      <td>169.000000</td>\n",
       "      <td>164.559998</td>\n",
       "      <td>166.110001</td>\n",
       "      <td>166.440002</td>\n",
       "      <td>40739600</td>\n",
       "      <td>163.976242</td>\n",
       "    </tr>\n",
       "  </tbody>\n",
       "</table>\n",
       "</div>"
      ],
      "text/plain": [
       "                  High         Low        Open       Close    Volume  \\\n",
       "Date                                                                   \n",
       "2019-01-25  158.130005  154.320007  155.479996  157.759995  33535500   \n",
       "2019-01-28  156.330002  153.660004  155.789993  156.300003  26192100   \n",
       "2019-01-29  158.130005  154.110001  156.250000  154.679993  41587200   \n",
       "2019-01-30  166.149994  160.229996  163.250000  165.250000  61109800   \n",
       "2019-01-31  169.000000  164.559998  166.110001  166.440002  40739600   \n",
       "\n",
       "             Adj Close  \n",
       "Date                    \n",
       "2019-01-25  155.424744  \n",
       "2019-01-28  153.986359  \n",
       "2019-01-29  152.390320  \n",
       "2019-01-30  162.803864  \n",
       "2019-01-31  163.976242  "
      ]
     },
     "execution_count": 16,
     "metadata": {},
     "output_type": "execute_result"
    }
   ],
   "source": [
    "test_data.tail()"
   ]
  },
  {
   "cell_type": "markdown",
   "metadata": {},
   "source": [
    "Extracting the stocks close data. "
   ]
  },
  {
   "cell_type": "code",
   "execution_count": 17,
   "metadata": {},
   "outputs": [],
   "source": [
    "train_set = train_data.iloc[:,3:4].values"
   ]
  },
  {
   "cell_type": "code",
   "execution_count": 18,
   "metadata": {},
   "outputs": [
    {
     "data": {
      "text/plain": [
       "array([[ 79.01856995],\n",
       "       [ 77.2828598 ],\n",
       "       [ 77.70428467],\n",
       "       ...,\n",
       "       [156.1499939 ],\n",
       "       [156.22999573],\n",
       "       [157.74000549]])"
      ]
     },
     "execution_count": 18,
     "metadata": {},
     "output_type": "execute_result"
    }
   ],
   "source": [
    "train_set"
   ]
  },
  {
   "cell_type": "code",
   "execution_count": 19,
   "metadata": {},
   "outputs": [
    {
     "data": {
      "image/png": "[encoded data removed]",
      "text/plain": [
       "<Figure size 432x288 with 1 Axes>"
      ]
     },
     "metadata": {
      "needs_background": "light"
     },
     "output_type": "display_data"
    }
   ],
   "source": [
    "plt.plot(train_set)\n",
    "plt.show()"
   ]
  },
  {
   "cell_type": "markdown",
   "metadata": {},
   "source": [
    "Applying feature scaling."
   ]
  },
  {
   "cell_type": "code",
   "execution_count": 20,
   "metadata": {},
   "outputs": [],
   "source": [
    "from sklearn.preprocessing import MinMaxScaler"
   ]
  },
  {
   "cell_type": "code",
   "execution_count": 21,
   "metadata": {},
   "outputs": [],
   "source": [
    "scaler = MinMaxScaler(feature_range= (0,1))\n",
    "train_set_scaled = scaler.fit_transform(train_set)"
   ]
  },
  {
   "cell_type": "code",
   "execution_count": 22,
   "metadata": {},
   "outputs": [
    {
     "data": {
      "text/plain": [
       "array([[0.04743445],\n",
       "       [0.03663169],\n",
       "       [0.03925457],\n",
       "       ...,\n",
       "       [0.52748703],\n",
       "       [0.52798495],\n",
       "       [0.53738299]])"
      ]
     },
     "execution_count": 22,
     "metadata": {},
     "output_type": "execute_result"
    }
   ],
   "source": [
    "train_set_scaled"
   ]
  },
  {
   "cell_type": "markdown",
   "metadata": {},
   "source": [
    "Creating a data structure with 60 timesteps and 1 output."
   ]
  },
  {
   "cell_type": "code",
   "execution_count": 23,
   "metadata": {},
   "outputs": [],
   "source": [
    "X_train = []\n",
    "y_train = []"
   ]
  },
  {
   "cell_type": "code",
   "execution_count": 24,
   "metadata": {},
   "outputs": [],
   "source": [
    "for i in range(60, len(train_set_scaled)):\n",
    "    X_train.append(train_set_scaled[i-60:i,0])\n",
    "    y_train.append(train_set_scaled[i,0])"
   ]
  },
  {
   "cell_type": "code",
   "execution_count": 25,
   "metadata": {},
   "outputs": [],
   "source": [
    "X_train, y_train = np.array(X_train), np.array(y_train)"
   ]
  },
  {
   "cell_type": "code",
   "execution_count": 26,
   "metadata": {
    "scrolled": true
   },
   "outputs": [
    {
     "data": {
      "text/plain": [
       "array([[0.04743445, 0.03663169, 0.03925457, ..., 0.03556473, 0.03350197,\n",
       "        0.03296849],\n",
       "       [0.03663169, 0.03925457, 0.03579593, ..., 0.03350197, 0.03296849,\n",
       "        0.03286179],\n",
       "       [0.03925457, 0.03579593, 0.03883671, ..., 0.03296849, 0.03286179,\n",
       "        0.03722738],\n",
       "       ...,\n",
       "       [0.97006332, 0.98263547, 1.        , ..., 0.4937539 , 0.46948102,\n",
       "        0.53383536],\n",
       "       [0.98263547, 1.        , 0.97460678, ..., 0.46948102, 0.53383536,\n",
       "        0.52748703],\n",
       "       [1.        , 0.97460678, 0.95157854, ..., 0.53383536, 0.52748703,\n",
       "        0.52798495]])"
      ]
     },
     "execution_count": 26,
     "metadata": {},
     "output_type": "execute_result"
    }
   ],
   "source": [
    "X_train"
   ]
  },
  {
   "cell_type": "code",
   "execution_count": 27,
   "metadata": {},
   "outputs": [
    {
     "data": {
      "text/plain": [
       "(1198, 60)"
      ]
     },
     "execution_count": 27,
     "metadata": {},
     "output_type": "execute_result"
    }
   ],
   "source": [
    "X_train.shape"
   ]
  },
  {
   "cell_type": "markdown",
   "metadata": {},
   "source": [
    "Reshaping the X_train to make it suitable for Keras."
   ]
  },
  {
   "cell_type": "code",
   "execution_count": 28,
   "metadata": {},
   "outputs": [],
   "source": [
    "X_train = np.reshape(X_train, (X_train.shape[0], X_train.shape[1],1))"
   ]
  },
  {
   "cell_type": "code",
   "execution_count": 29,
   "metadata": {},
   "outputs": [
    {
     "data": {
      "text/plain": [
       "(1198, 60, 1)"
      ]
     },
     "execution_count": 29,
     "metadata": {},
     "output_type": "execute_result"
    }
   ],
   "source": [
    "X_train.shape"
   ]
  },
  {
   "cell_type": "markdown",
   "metadata": {},
   "source": [
    "Building the RNN model."
   ]
  },
  {
   "cell_type": "code",
   "execution_count": 30,
   "metadata": {},
   "outputs": [
    {
     "name": "stderr",
     "output_type": "stream",
     "text": [
      "Using TensorFlow backend.\n"
     ]
    }
   ],
   "source": [
    "from keras.models import Sequential\n",
    "from keras.layers import Dense\n",
    "from keras.layers import Dropout\n",
    "from keras.layers import LSTM"
   ]
  },
  {
   "cell_type": "markdown",
   "metadata": {},
   "source": [
    "Intialising the RNN model."
   ]
  },
  {
   "cell_type": "code",
   "execution_count": 31,
   "metadata": {},
   "outputs": [],
   "source": [
    "regressor = Sequential()"
   ]
  },
  {
   "cell_type": "markdown",
   "metadata": {},
   "source": [
    "Adding first LSTM layer and some Dropout for regularization."
   ]
  },
  {
   "cell_type": "code",
   "execution_count": 32,
   "metadata": {},
   "outputs": [],
   "source": [
    "regressor.add(LSTM(units=50, return_sequences= True, input_shape= (X_train.shape[1],1)))\n",
    "regressor.add(Dropout(0.3))"
   ]
  },
  {
   "cell_type": "markdown",
   "metadata": {},
   "source": [
    "Adding second LSTM layer and some Dropout for regularization."
   ]
  },
  {
   "cell_type": "code",
   "execution_count": 33,
   "metadata": {},
   "outputs": [],
   "source": [
    "regressor.add(LSTM(units=50, return_sequences=True))\n",
    "regressor.add(Dropout(0.3))"
   ]
  },
  {
   "cell_type": "markdown",
   "metadata": {},
   "source": [
    "Adding third LSTM layer and some Dropout for regularization."
   ]
  },
  {
   "cell_type": "code",
   "execution_count": 34,
   "metadata": {},
   "outputs": [],
   "source": [
    "regressor.add(LSTM(units=50, return_sequences=True))\n",
    "regressor.add(Dropout(0.3))"
   ]
  },
  {
   "cell_type": "markdown",
   "metadata": {},
   "source": [
    "Adding fourth LSTM layer and some Dropout for regularization."
   ]
  },
  {
   "cell_type": "code",
   "execution_count": 35,
   "metadata": {},
   "outputs": [],
   "source": [
    "regressor.add(LSTM(units=50))\n",
    "regressor.add(Dropout(0.3))"
   ]
  },
  {
   "cell_type": "markdown",
   "metadata": {},
   "source": [
    "Adding the output layers."
   ]
  },
  {
   "cell_type": "code",
   "execution_count": 36,
   "metadata": {},
   "outputs": [],
   "source": [
    "regressor.add(Dense(units=1))"
   ]
  },
  {
   "cell_type": "markdown",
   "metadata": {},
   "source": [
    "Compiling the model."
   ]
  },
  {
   "cell_type": "code",
   "execution_count": 37,
   "metadata": {},
   "outputs": [],
   "source": [
    "regressor.compile(optimizer='adam', loss='mean_squared_error')"
   ]
  },
  {
   "cell_type": "code",
   "execution_count": 38,
   "metadata": {},
   "outputs": [
    {
     "name": "stdout",
     "output_type": "stream",
     "text": [
      "Epoch 1/100\n",
      "1198/1198 [==============================] - 15s 13ms/step - loss: 0.0295\n",
      "Epoch 2/100\n",
      "1198/1198 [==============================] - 10s 8ms/step - loss: 0.0056\n",
      "Epoch 3/100\n",
      "1198/1198 [==============================] - 10s 8ms/step - loss: 0.0062\n",
      "Epoch 4/100\n",
      "1198/1198 [==============================] - 10s 9ms/step - loss: 0.0061\n",
      "Epoch 5/100\n",
      "1198/1198 [==============================] - 10s 9ms/step - loss: 0.0050\n",
      "Epoch 6/100\n",
      "1198/1198 [==============================] - 10s 9ms/step - loss: 0.0052\n",
      "Epoch 7/100\n",
      "1198/1198 [==============================] - 10s 9ms/step - loss: 0.0045\n",
      "Epoch 8/100\n",
      "1198/1198 [==============================] - 10s 8ms/step - loss: 0.0047\n",
      "Epoch 9/100\n",
      "1198/1198 [==============================] - 10s 8ms/step - loss: 0.0040\n",
      "Epoch 10/100\n",
      "1198/1198 [==============================] - 10s 8ms/step - loss: 0.0040\n",
      "Epoch 11/100\n",
      "1198/1198 [==============================] - 10s 8ms/step - loss: 0.0039\n",
      "Epoch 12/100\n",
      "1198/1198 [==============================] - 10s 8ms/step - loss: 0.0036\n",
      "Epoch 13/100\n",
      "1198/1198 [==============================] - 10s 9ms/step - loss: 0.0039\n",
      "Epoch 14/100\n",
      "1198/1198 [==============================] - 10s 9ms/step - loss: 0.0038\n",
      "Epoch 15/100\n",
      "1198/1198 [==============================] - 11s 9ms/step - loss: 0.0036\n",
      "Epoch 16/100\n",
      "1198/1198 [==============================] - 11s 9ms/step - loss: 0.0032\n",
      "Epoch 17/100\n",
      "1198/1198 [==============================] - 11s 9ms/step - loss: 0.0035\n",
      "Epoch 18/100\n",
      "1198/1198 [==============================] - 11s 9ms/step - loss: 0.0028\n",
      "Epoch 19/100\n",
      "1198/1198 [==============================] - 11s 9ms/step - loss: 0.0034\n",
      "Epoch 20/100\n",
      "1198/1198 [==============================] - 11s 9ms/step - loss: 0.0035\n",
      "Epoch 21/100\n",
      "1198/1198 [==============================] - 11s 9ms/step - loss: 0.0031\n",
      "Epoch 22/100\n",
      "1198/1198 [==============================] - 11s 9ms/step - loss: 0.0031\n",
      "Epoch 23/100\n",
      "1198/1198 [==============================] - 11s 9ms/step - loss: 0.0032\n",
      "Epoch 24/100\n",
      "1198/1198 [==============================] - 11s 9ms/step - loss: 0.0033\n",
      "Epoch 25/100\n",
      "1198/1198 [==============================] - 11s 9ms/step - loss: 0.0027\n",
      "Epoch 26/100\n",
      "1198/1198 [==============================] - 11s 9ms/step - loss: 0.0029\n",
      "Epoch 27/100\n",
      "1198/1198 [==============================] - 11s 9ms/step - loss: 0.0026\n",
      "Epoch 28/100\n",
      "1198/1198 [==============================] - 11s 9ms/step - loss: 0.0025\n",
      "Epoch 29/100\n",
      "1198/1198 [==============================] - 11s 10ms/step - loss: 0.0024\n",
      "Epoch 30/100\n",
      "1198/1198 [==============================] - 11s 10ms/step - loss: 0.0023\n",
      "Epoch 31/100\n",
      "1198/1198 [==============================] - 12s 10ms/step - loss: 0.0023\n",
      "Epoch 32/100\n",
      "1198/1198 [==============================] - 12s 10ms/step - loss: 0.0024\n",
      "Epoch 33/100\n",
      "1198/1198 [==============================] - 12s 10ms/step - loss: 0.0023\n",
      "Epoch 34/100\n",
      "1198/1198 [==============================] - 12s 10ms/step - loss: 0.0025\n",
      "Epoch 35/100\n",
      "1198/1198 [==============================] - 12s 10ms/step - loss: 0.0025\n",
      "Epoch 36/100\n",
      "1198/1198 [==============================] - 12s 10ms/step - loss: 0.0020\n",
      "Epoch 37/100\n",
      "1198/1198 [==============================] - 12s 10ms/step - loss: 0.0020\n",
      "Epoch 38/100\n",
      "1198/1198 [==============================] - 12s 10ms/step - loss: 0.0024\n",
      "Epoch 39/100\n",
      "1198/1198 [==============================] - 12s 10ms/step - loss: 0.0022\n",
      "Epoch 40/100\n",
      "1198/1198 [==============================] - 12s 10ms/step - loss: 0.0024\n",
      "Epoch 41/100\n",
      "1198/1198 [==============================] - 12s 10ms/step - loss: 0.0024\n",
      "Epoch 42/100\n",
      "1198/1198 [==============================] - 13s 10ms/step - loss: 0.0023\n",
      "Epoch 43/100\n",
      "1198/1198 [==============================] - 11s 10ms/step - loss: 0.0023\n",
      "Epoch 44/100\n",
      "1198/1198 [==============================] - 11s 10ms/step - loss: 0.0019\n",
      "Epoch 45/100\n",
      "1198/1198 [==============================] - 12s 10ms/step - loss: 0.0020\n",
      "Epoch 46/100\n",
      "1198/1198 [==============================] - 12s 10ms/step - loss: 0.0020\n",
      "Epoch 47/100\n",
      "1198/1198 [==============================] - 12s 10ms/step - loss: 0.0017\n",
      "Epoch 48/100\n",
      "1198/1198 [==============================] - 12s 10ms/step - loss: 0.0021\n",
      "Epoch 49/100\n",
      "1198/1198 [==============================] - 12s 10ms/step - loss: 0.0020\n",
      "Epoch 50/100\n",
      "1198/1198 [==============================] - 12s 10ms/step - loss: 0.0020\n",
      "Epoch 51/100\n",
      "1198/1198 [==============================] - 12s 10ms/step - loss: 0.0018\n",
      "Epoch 52/100\n",
      "1198/1198 [==============================] - 12s 10ms/step - loss: 0.0021\n",
      "Epoch 53/100\n",
      "1198/1198 [==============================] - 12s 10ms/step - loss: 0.0019\n",
      "Epoch 54/100\n",
      "1198/1198 [==============================] - 12s 10ms/step - loss: 0.0018\n",
      "Epoch 55/100\n",
      "1198/1198 [==============================] - 12s 10ms/step - loss: 0.0017\n",
      "Epoch 56/100\n",
      "1198/1198 [==============================] - 12s 10ms/step - loss: 0.0018\n",
      "Epoch 57/100\n",
      "1198/1198 [==============================] - 12s 10ms/step - loss: 0.0016\n",
      "Epoch 58/100\n",
      "1198/1198 [==============================] - 11s 9ms/step - loss: 0.0015\n",
      "Epoch 59/100\n",
      "1198/1198 [==============================] - 11s 9ms/step - loss: 0.0017\n",
      "Epoch 60/100\n",
      "1198/1198 [==============================] - 12s 10ms/step - loss: 0.0019\n",
      "Epoch 61/100\n",
      "1198/1198 [==============================] - 13s 11ms/step - loss: 0.0019\n",
      "Epoch 62/100\n",
      "1198/1198 [==============================] - 15s 12ms/step - loss: 0.0017\n",
      "Epoch 63/100\n",
      "1198/1198 [==============================] - 14s 12ms/step - loss: 0.0019\n",
      "Epoch 64/100\n",
      "1198/1198 [==============================] - 14s 11ms/step - loss: 0.0017\n",
      "Epoch 65/100\n",
      "1198/1198 [==============================] - 13s 11ms/step - loss: 0.0016\n",
      "Epoch 66/100\n",
      "1198/1198 [==============================] - 13s 11ms/step - loss: 0.0015\n",
      "Epoch 67/100\n",
      "1198/1198 [==============================] - 13s 11ms/step - loss: 0.0017\n",
      "Epoch 68/100\n",
      "1198/1198 [==============================] - 13s 11ms/step - loss: 0.0017\n",
      "Epoch 69/100\n",
      "1198/1198 [==============================] - 13s 11ms/step - loss: 0.0016\n",
      "Epoch 70/100\n",
      "1198/1198 [==============================] - 13s 11ms/step - loss: 0.0015\n",
      "Epoch 71/100\n",
      "1198/1198 [==============================] - 13s 11ms/step - loss: 0.0015\n",
      "Epoch 72/100\n",
      "1198/1198 [==============================] - 13s 11ms/step - loss: 0.0015\n",
      "Epoch 73/100\n",
      "1198/1198 [==============================] - 13s 11ms/step - loss: 0.0016\n",
      "Epoch 74/100\n",
      "1198/1198 [==============================] - 13s 11ms/step - loss: 0.0016\n",
      "Epoch 75/100\n",
      "1198/1198 [==============================] - 13s 11ms/step - loss: 0.0015\n",
      "Epoch 76/100\n",
      "1198/1198 [==============================] - 13s 11ms/step - loss: 0.0015\n",
      "Epoch 77/100\n",
      "1198/1198 [==============================] - 13s 11ms/step - loss: 0.0015\n",
      "Epoch 78/100\n",
      "1198/1198 [==============================] - 14s 12ms/step - loss: 0.0013\n",
      "Epoch 79/100\n",
      "1198/1198 [==============================] - 14s 12ms/step - loss: 0.0015\n",
      "Epoch 80/100\n",
      "1198/1198 [==============================] - 13s 11ms/step - loss: 0.0015\n",
      "Epoch 81/100\n",
      "1198/1198 [==============================] - 14s 12ms/step - loss: 0.0014\n",
      "Epoch 82/100\n",
      "1198/1198 [==============================] - 13s 11ms/step - loss: 0.0013\n",
      "Epoch 83/100\n",
      "1198/1198 [==============================] - 13s 11ms/step - loss: 0.0017\n",
      "Epoch 84/100\n",
      "1198/1198 [==============================] - 13s 11ms/step - loss: 0.0015\n",
      "Epoch 85/100\n",
      "1198/1198 [==============================] - 13s 11ms/step - loss: 0.0014\n",
      "Epoch 86/100\n",
      "1198/1198 [==============================] - 13s 11ms/step - loss: 0.0013\n",
      "Epoch 87/100\n",
      "1198/1198 [==============================] - 15s 12ms/step - loss: 0.0014\n",
      "Epoch 88/100\n",
      "1198/1198 [==============================] - 15s 12ms/step - loss: 0.0014\n",
      "Epoch 89/100\n",
      "1198/1198 [==============================] - 15s 12ms/step - loss: 0.0013\n",
      "Epoch 90/100\n",
      "1198/1198 [==============================] - 14s 11ms/step - loss: 0.0013\n",
      "Epoch 91/100\n",
      "1198/1198 [==============================] - 13s 11ms/step - loss: 0.0013\n",
      "Epoch 92/100\n",
      "1198/1198 [==============================] - 14s 11ms/step - loss: 0.0012\n",
      "Epoch 93/100\n",
      "1198/1198 [==============================] - 14s 11ms/step - loss: 0.0013\n",
      "Epoch 94/100\n",
      "1198/1198 [==============================] - 13s 11ms/step - loss: 0.0013\n",
      "Epoch 95/100\n",
      "1198/1198 [==============================] - 14s 11ms/step - loss: 0.0015\n",
      "Epoch 96/100\n",
      "1198/1198 [==============================] - 13s 11ms/step - loss: 0.0013\n",
      "Epoch 97/100\n",
      "1198/1198 [==============================] - 13s 10ms/step - loss: 0.0013\n",
      "Epoch 98/100\n",
      "1198/1198 [==============================] - 12s 10ms/step - loss: 0.0012\n",
      "Epoch 99/100\n",
      "1198/1198 [==============================] - 13s 11ms/step - loss: 0.0013\n",
      "Epoch 100/100\n",
      "1198/1198 [==============================] - 13s 11ms/step - loss: 0.0015\n"
     ]
    },
    {
     "data": {
      "text/plain": [
       "<keras.callbacks.callbacks.History at 0x1ff024fe648>"
      ]
     },
     "execution_count": 38,
     "metadata": {},
     "output_type": "execute_result"
    }
   ],
   "source": [
    "regressor.fit(X_train, y_train, epochs=100, batch_size=32)"
   ]
  },
  {
   "cell_type": "markdown",
   "metadata": {},
   "source": [
    "Making prediction for the january month of 2019."
   ]
  },
  {
   "cell_type": "code",
   "execution_count": 39,
   "metadata": {},
   "outputs": [],
   "source": [
    "real_data = test_data.iloc[:,3:4].values"
   ]
  },
  {
   "cell_type": "markdown",
   "metadata": {},
   "source": [
    "Reshaping and applying normalization on the test data. Similarly, like we did for our train data."
   ]
  },
  {
   "cell_type": "code",
   "execution_count": 40,
   "metadata": {},
   "outputs": [],
   "source": [
    "dataset_total = pd.concat((train_data['Close'], test_data['Close']), axis=0)"
   ]
  },
  {
   "cell_type": "code",
   "execution_count": 41,
   "metadata": {},
   "outputs": [],
   "source": [
    "inputs = dataset_total[len(dataset_total) - len(test_data) - 60:].values"
   ]
  },
  {
   "cell_type": "code",
   "execution_count": 42,
   "metadata": {},
   "outputs": [],
   "source": [
    "inputs = inputs.reshape(-1,1)"
   ]
  },
  {
   "cell_type": "code",
   "execution_count": 43,
   "metadata": {},
   "outputs": [],
   "source": [
    "inputs = scaler.transform(inputs)"
   ]
  },
  {
   "cell_type": "code",
   "execution_count": 44,
   "metadata": {},
   "outputs": [],
   "source": [
    "X_test = []\n",
    "for i in range(60, 80):\n",
    "    X_test.append(inputs[i-60:i,0])"
   ]
  },
  {
   "cell_type": "code",
   "execution_count": 45,
   "metadata": {},
   "outputs": [],
   "source": [
    "X_test = np.array(X_test)"
   ]
  },
  {
   "cell_type": "code",
   "execution_count": 46,
   "metadata": {},
   "outputs": [
    {
     "data": {
      "text/plain": [
       "(20, 60)"
      ]
     },
     "execution_count": 46,
     "metadata": {},
     "output_type": "execute_result"
    }
   ],
   "source": [
    "X_test.shape"
   ]
  },
  {
   "cell_type": "code",
   "execution_count": 47,
   "metadata": {},
   "outputs": [],
   "source": [
    "X_test = np.reshape(X_test, (X_test.shape[0], X_test.shape[1], 1))"
   ]
  },
  {
   "cell_type": "code",
   "execution_count": 48,
   "metadata": {},
   "outputs": [
    {
     "data": {
      "text/plain": [
       "(20, 60, 1)"
      ]
     },
     "execution_count": 48,
     "metadata": {},
     "output_type": "execute_result"
    }
   ],
   "source": [
    "X_test.shape"
   ]
  },
  {
   "cell_type": "code",
   "execution_count": 49,
   "metadata": {},
   "outputs": [],
   "source": [
    "predicted_stock = regressor.predict(X_test)"
   ]
  },
  {
   "cell_type": "code",
   "execution_count": 50,
   "metadata": {},
   "outputs": [
    {
     "data": {
      "text/plain": [
       "array([[0.52875876],\n",
       "       [0.54000366],\n",
       "       [0.5378952 ],\n",
       "       [0.5251515 ],\n",
       "       [0.508511  ],\n",
       "       [0.495705  ],\n",
       "       [0.49172395],\n",
       "       [0.4962862 ],\n",
       "       [0.50450623],\n",
       "       [0.5103956 ],\n",
       "       [0.51392865],\n",
       "       [0.51719534],\n",
       "       [0.5214095 ],\n",
       "       [0.52675194],\n",
       "       [0.5295696 ],\n",
       "       [0.5291672 ],\n",
       "       [0.5257342 ],\n",
       "       [0.5244502 ],\n",
       "       [0.52604085],\n",
       "       [0.5281842 ]], dtype=float32)"
      ]
     },
     "execution_count": 50,
     "metadata": {},
     "output_type": "execute_result"
    }
   ],
   "source": [
    "predicted_stock"
   ]
  },
  {
   "cell_type": "code",
   "execution_count": 51,
   "metadata": {},
   "outputs": [],
   "source": [
    "predicted_stock = scaler.inverse_transform(predicted_stock)"
   ]
  },
  {
   "cell_type": "code",
   "execution_count": 52,
   "metadata": {},
   "outputs": [
    {
     "data": {
      "text/plain": [
       "array([[156.35432],\n",
       "       [158.16109],\n",
       "       [157.82231],\n",
       "       [155.77473],\n",
       "       [153.10106],\n",
       "       [151.04349],\n",
       "       [150.40384],\n",
       "       [151.13687],\n",
       "       [152.45761],\n",
       "       [153.40387],\n",
       "       [153.97153],\n",
       "       [154.4964 ],\n",
       "       [155.17351],\n",
       "       [156.03189],\n",
       "       [156.48462],\n",
       "       [156.41995],\n",
       "       [155.86836],\n",
       "       [155.66206],\n",
       "       [155.91763],\n",
       "       [156.26201]], dtype=float32)"
      ]
     },
     "execution_count": 52,
     "metadata": {},
     "output_type": "execute_result"
    }
   ],
   "source": [
    "predicted_stock"
   ]
  },
  {
   "cell_type": "markdown",
   "metadata": {},
   "source": [
    "Visualising the results."
   ]
  },
  {
   "cell_type": "code",
   "execution_count": 53,
   "metadata": {},
   "outputs": [
    {
     "data": {
      "image/png": "[encoded data removed]",
      "text/plain": [
       "<Figure size 432x288 with 1 Axes>"
      ]
     },
     "metadata": {
      "needs_background": "light"
     },
     "output_type": "display_data"
    }
   ],
   "source": [
    "plt.plot(predicted_stock, color = 'Blue', label='Predicted Apple closing stocks')\n",
    "plt.plot(real_data, color='red', label='Actual Apple closing stock')\n",
    "plt.title('Predicting Apple closing stocks for Jan 2019')\n",
    "plt.xlabel('Time')\n",
    "plt.ylabel('Apple Closing Stock')\n",
    "plt.legend()\n",
    "plt.show()\n"
   ]
  },
  {
   "cell_type": "code",
   "execution_count": null,
   "metadata": {},
   "outputs": [],
   "source": []
  }
 ],
 "metadata": {
  "kernelspec": {
   "display_name": "Python 3",
   "language": "python",
   "name": "python3"
  },
  "language_info": {
   "codemirror_mode": {
    "name": "ipython",
    "version": 3
   },
   "file_extension": ".py",
   "mimetype": "text/x-python",
   "name": "python",
   "nbconvert_exporter": "python",
   "pygments_lexer": "ipython3",
   "version": "3.7.4"
  }
 },
 "nbformat": 4,
 "nbformat_minor": 2
}
